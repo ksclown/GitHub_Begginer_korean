{
 "cells": [
  {
   "cell_type": "markdown",
   "metadata": {},
   "source": [
    "<span style=\"color:grey\"> By Seongchan Kang </span> "
   ]
  },
  {
   "cell_type": "markdown",
   "metadata": {},
   "source": [
    "<span style=\"color:grey\">Version : Python 3.10.1 in Window</span>"
   ]
  },
  {
   "cell_type": "markdown",
   "metadata": {},
   "source": [
    "<span style=\"color:grey\"> 참고한 자료 및 영상 링크를 남겨놓겠습니다. </span>\n",
    "<span style=\"color:grey\"> \\\n",
    "참고01 : https://hackmd.io/@oW_dDxdsRoSpl0M64Tfg2g/ByfwpNJ-K \\\n",
    "참고02 : https://www.yalco.kr/lectures/git-github/ \\\n",
    "참고03 : https://youtu.be/1I3hMwQU6GU (영상) \n",
    "  </span>"
   ]
  },
  {
   "cell_type": "markdown",
   "metadata": {},
   "source": [
    "# GitBub 배우기 with Python #"
   ]
  },
  {
   "cell_type": "markdown",
   "metadata": {},
   "source": [
    "## 기본 설정"
   ]
  },
  {
   "cell_type": "markdown",
   "metadata": {},
   "source": [
    "### GitBub 사이트 가입\n",
    "\n",
    "---\n",
    "\n",
    "구글 아이디를 통해서 간편하게 가입 가능"
   ]
  },
  {
   "cell_type": "markdown",
   "metadata": {},
   "source": [
    "### 설치\n",
    "---\n",
    "\n",
    "- 깃허브 \\\n",
    "  따로 설치는 필요없음\\\n",
    "  소스코드를 올리는 공간의 개념\n",
    "\n",
    "- 깃 \\\n",
    "깃허브를 활용하기 위해 따로 설치해야함 (아래 URL을 통해서 설치) \\\n",
    "https://git-scm.com/downloads\n",
    "\n",
    "- 깃의 GUI \\\n",
    "  조금 더 보기 편하기 위해서 GUI를 설치 (아래 URL을 통해서 설치) \\\n",
    "  https://www.sourcetreeapp.com/"
   ]
  },
  {
   "cell_type": "markdown",
   "metadata": {},
   "source": [
    "### Git Bash 설정"
   ]
  },
  {
   "cell_type": "code",
   "execution_count": null,
   "metadata": {},
   "outputs": [],
   "source": [
    "# git bash 실행시키고 아래 내용 입력\n",
    "# 본인 이름과 이메일 넣기\n",
    "git config --global user.name \"name\"\n",
    "\n",
    "git config --global user.email \"email\"\n",
    "\n",
    "# 브런치 이름을 변경하는 것\n",
    "# 원래 처음 이름이 master로 되어있음 \n",
    "# 하지만 master의 해석이 (노예랑 주인)으로 해석이 되어 미리 브런치 이름을 변경함\n",
    "git config --global init.defaultBranch main\n",
    "\n",
    "#  위에 내용들이 잘 수정되었는지 확인\n",
    "#  아래에 바뀐 내용들이 나\n",
    "git config --list "
   ]
  },
  {
   "cell_type": "markdown",
   "metadata": {},
   "source": [
    "## 기본 기능 (with VS Code)"
   ]
  },
  {
   "cell_type": "markdown",
   "metadata": {
    "ExecuteTime": {
     "end_time": "2021-12-07T08:30:16.580328Z",
     "start_time": "2021-12-07T08:30:16.571338Z"
    }
   },
   "source": [
    "### VS Code에서 사용\n",
    "---\n",
    "- ctrl + ` : 터미널을 열 수 있음\n",
    "- powershell로 열려있는 터미널을 bash로 변경"
   ]
  },
  {
   "cell_type": "code",
   "execution_count": null,
   "metadata": {
    "ExecuteTime": {
     "end_time": "2021-12-10T07:08:50.293367Z",
     "start_time": "2021-12-10T07:08:50.269594Z"
    }
   },
   "outputs": [],
   "source": [
    "## bash 터미널에 아래 코드 작성 ##\n",
    "#  git init  =>     status     =>     add     =>       commit\n",
    "#  마트 입장  =>  장바구니 확인  =>  상품 담기  => 계산대에 상품 올리기\n",
    "\n",
    "# 이 파일을 git이 관리하겠다는 명령문 #\n",
    "git init\n",
    "\n",
    "# 파일의 상태 확인 #\n",
    "# Untracked files는 한마디로 아직 관리하지 않은 파일\n",
    "git status\n",
    "# 변경 사항을 더 자세히 보는 방법 (k(위), j(아래, q(끄기))\n",
    "git diff\n",
    "\n",
    "# 파일 담기 #\n",
    "# 하나씩 담기\n",
    "git add 파일명\n",
    "# 모두 담기\n",
    "git add .\n",
    "\n",
    "# commit #\n",
    "# 새로 커밋을 만드는 방법\n",
    "git commit -m \"First Commit\"\n",
    "\n",
    "# log #\n",
    "# 커밋의 정보 확인\n",
    "git log"
   ]
  },
  {
   "cell_type": "markdown",
   "metadata": {},
   "source": [
    "### Git에서 파일을 배제(무시)하게 하 방법\n",
    "---\n",
    "- 파일 생성 \\\n",
    "  파일명 \".gitignore\" 을 만들면 자동으로 인식되어 사용가능\n",
    "- 무시하고 싶은 파일을 하나 만들고 그 파일 이름을 .gitignore에 입력후 저장 \\\n",
    "  git status를 입력하여 파일 상태 확인\n",
    "- 몇몇개 프로젝트나 파일은 .gitignore을 이미 가지고 있기도 "
   ]
  },
  {
   "cell_type": "code",
   "execution_count": null,
   "metadata": {
    "ExecuteTime": {
     "end_time": "2021-12-10T07:08:51.724567Z",
     "start_time": "2021-12-10T07:08:51.708565Z"
    }
   },
   "outputs": [],
   "source": [
    "## gitignore 사용 양식 ##\n",
    "\n",
    "# 모든 file.c\n",
    "file.c\n",
    "\n",
    "# 최상위 폴더의 file.c\n",
    "/file.c\n",
    "\n",
    "# 모든 .c 확장자 파일\n",
    "*.c\n",
    "\n",
    "# .c 확장자지만 무시하지 않을 파일\n",
    "!not_ignore_this.c\n",
    "\n",
    "# logs란 이름의 파일 또는 폴더와 그 내용들\n",
    "logs\n",
    "\n",
    "# logs란 이름의 폴더와 그 내용들\n",
    "logs/\n",
    "\n",
    "# logs 폴더 바로 안의 debug.log와 .c 파일들\n",
    "logs/debug.log\n",
    "logs/*.c\n",
    "\n",
    "# logs 폴더 바로 안, 또는 그 안의 다른 폴더(들) 안의 debug.log\n",
    "logs/**/debug.log"
   ]
  },
  {
   "cell_type": "markdown",
   "metadata": {},
   "source": [
    "### 이스케이프 문자(escape character)"
   ]
  }
 ],
 "metadata": {
  "kernelspec": {
   "display_name": "Python 3",
   "language": "python",
   "name": "python3"
  },
  "language_info": {
   "codemirror_mode": {
    "name": "ipython",
    "version": 3
   },
   "file_extension": ".py",
   "mimetype": "text/x-python",
   "name": "python",
   "nbconvert_exporter": "python",
   "pygments_lexer": "ipython3",
   "version": "3.7.6"
  },
  "toc": {
   "base_numbering": 1,
   "nav_menu": {},
   "number_sections": true,
   "sideBar": true,
   "skip_h1_title": false,
   "title_cell": "Table of Contents",
   "title_sidebar": "Contents",
   "toc_cell": false,
   "toc_position": {
    "height": "calc(100% - 180px)",
    "left": "10px",
    "top": "150px",
    "width": "341.465px"
   },
   "toc_section_display": true,
   "toc_window_display": true
  }
 },
 "nbformat": 4,
 "nbformat_minor": 4
}
