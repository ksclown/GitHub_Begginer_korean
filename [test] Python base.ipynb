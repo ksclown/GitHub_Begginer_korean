{
 "cells": [
  {
   "cell_type": "markdown",
   "metadata": {},
   "source": [
    "<span style=\"color:grey\"> By Seongchan Kang </span> "
   ]
  },
  {
   "cell_type": "markdown",
   "metadata": {},
   "source": [
    "<span style=\"color:grey\">Version : Python 3.10.1 in Window</span>"
   ]
  },
  {
   "cell_type": "markdown",
   "metadata": {},
   "source": [
    "<span style=\"color:grey\"> 참고한 자료 및 영상 링크를 남겨놓겠습니다. </span>\n",
    "<span style=\"color:grey\"> \\\n",
    "참고01 : https://hackmd.io/@oW_dDxdsRoSpl0M64Tfg2g/ByfwpNJ-K \\\n",
    "참고02 : https://www.yalco.kr/lectures/git-github/ \\\n",
    "참고03 : https://youtu.be/1I3hMwQU6GU (영상) \n",
    "  </span>"
   ]
  },
  {
   "cell_type": "markdown",
   "metadata": {},
   "source": [
    "# GitBub 배우기 with Python #"
   ]
  },
  {
   "cell_type": "markdown",
   "metadata": {},
   "source": [
    "## 기본 설정"
   ]
  },
  {
   "cell_type": "markdown",
   "metadata": {},
   "source": [
    "### GitBub 사이트 가입\n",
    "\n",
    "---\n",
    "\n",
    "구글 아이디를 통해서 간편하게 가입 가능"
   ]
  },
  {
   "cell_type": "markdown",
   "metadata": {},
   "source": [
    "### 설치\n",
    "---\n",
    "\n",
    "- 깃허브 \\\n",
    "  따로 설치는 필요없음\\\n",
    "  소스코드를 올리는 공간의 개념 \\\n",
    "  시점이나 차원(커밋) 단위로 구분해서 소스공유나 협업이 가\n",
    "\n",
    "- 깃 \\\n",
    "깃허브를 활용하기 위해 따로 설치해야함 (아래 URL을 통해서 설치) \\\n",
    "https://git-scm.com/downloads\n",
    "\n",
    "- 깃의 GUI \\\n",
    "  조금 더 보기 편하기 위해서 GUI를 설치 (아래 URL을 통해서 설치) \\\n",
    "  https://www.sourcetreeapp.com/"
   ]
  },
  {
   "cell_type": "markdown",
   "metadata": {},
   "source": [
    "### Git Bash 설정"
   ]
  },
  {
   "cell_type": "code",
   "execution_count": null,
   "metadata": {},
   "outputs": [],
   "source": [
    "# git bash 실행시키고 아래 내용 입력\n",
    "# 본인 이름과 이메일 넣기\n",
    "git config --global user.name \"name\"\n",
    "\n",
    "git config --global user.email \"email\"\n",
    "\n",
    "# 브런치 이름을 변경하는 것\n",
    "# 원래 처음 이름이 master로 되어있음 \n",
    "# 하지만 master의 해석이 (노예랑 주인)으로 해석이 되어 미리 브런치 이름을 변경함\n",
    "git config --global init.defaultBranch main\n",
    "\n",
    "#  위에 내용들이 잘 수정되었는지 확인\n",
    "#  아래에 바뀐 내용들이 나\n",
    "git config --list "
   ]
  },
  {
   "cell_type": "markdown",
   "metadata": {},
   "source": [
    "### GitHub 설정\n",
    "\n",
    "- 설정\\\n",
    "  로그인 > Settings > Developer settings > Personal access tokens\n",
    "- 새로운토큰 만들기(new token)\\\n",
    "  repo > generate token > 비밀번호 나온거 바로 복붙해놓기\n",
    "- 컴퓨터에 토큰 설정하기\\\n",
    "  windows 자격 증명 관리 검색 > windows 자격 증명 > 일반 자격증명에 (git:https://github.com), (사용자명), (복붙한 비번) 넣어주기\n",
    "- 소스트리\\\n",
    "  도구 > 옵션 > 인증 > 확인하고 위에와 비슷하게 편집\n",
    "- repository 생성 \\\n",
    "  처음 나오는 Quick setup 부분에 SSH대신 HTTPS로 바꿔주기\n"
   ]
  },
  {
   "cell_type": "markdown",
   "metadata": {},
   "source": [
    "## 기본 기능 (with VS Code)"
   ]
  },
  {
   "cell_type": "markdown",
   "metadata": {
    "ExecuteTime": {
     "end_time": "2021-12-07T08:30:16.580328Z",
     "start_time": "2021-12-07T08:30:16.571338Z"
    }
   },
   "source": [
    "### 파일의 추가 및 업로드\n",
    "\n",
    "---\n",
    "\n",
    "> 시작하기전에 \n",
    "> - ctrl + ` : 터미널을 열 수 있음 \n",
    "> - powershell로 열려있는 터미널을 bash로 변경"
   ]
  },
  {
   "cell_type": "code",
   "execution_count": null,
   "metadata": {
    "ExecuteTime": {
     "end_time": "2021-12-10T07:08:50.293367Z",
     "start_time": "2021-12-10T07:08:50.269594Z"
    }
   },
   "outputs": [],
   "source": [
    "## bash 터미널에 아래 코드 작성 ##\n",
    "#  git init  =>     status     =>     add     =>       commit\n",
    "#  마트 입장  =>  장바구니 확인  =>  상품 담기  => 계산대에 상품 올리기\n",
    "\n",
    "# 이 파일을 git이 관리하겠다는 명령문 #\n",
    "git init\n",
    "\n",
    "# 파일의 상태 확인 #\n",
    "# Untracked files는 한마디로 아직 관리하지 않은 파일\n",
    "# Save 이후 실행해야함\n",
    "git status\n",
    "# 변경 사항을 더 자세히 보는 방법 (k(위), j(아래, q(끄기))\n",
    "git diff\n",
    "\n",
    "# 파일 담기 #\n",
    "# 하나씩 담기\n",
    "git add 파일명\n",
    "# 모두 담기\n",
    "git add .\n",
    "\n",
    "# commit #\n",
    "# 새로 커밋을 만드는 방법\n",
    "git commit -m \"First Commit\"\n",
    "\n",
    "# log #\n",
    "# 커밋의 정보 확인\n",
    "git log\n",
    "\n",
    "# 업로드 #\n",
    "# 2번째 문단 (…or push an existing repository from the command line)\n",
    "# 그 내용 모두 git에서 실행"
   ]
  },
  {
   "cell_type": "markdown",
   "metadata": {},
   "source": [
    "### 여러 Branch(차원) 활용\n",
    "\n",
    "- 여러 모델을 사용하기 위해서\n",
    "- 현업에서 따로 독립적으로 작업이 필요할 때"
   ]
  },
  {
   "cell_type": "code",
   "execution_count": null,
   "metadata": {},
   "outputs": [],
   "source": [
    "## 생성 ##\n",
    "git branch 브랜치이름\n",
    "\n",
    "## 브랜치 확인 ##\n",
    "git branch\n",
    "\n",
    "## 다른 브랜치로 이동 ##\n",
    "git switch 브랜치이름\n",
    "# 생성과 동시에 이동\n",
    "git switch -c 브랜치이름\n",
    "\n",
    "## 이름 바꾸기 ##\n",
    "# ()는 빼고 실행\n",
    "git branch -m (기존 브랜치명) (새로운 이름)\n",
    "\n",
    "## 삭제 ##\n",
    "# ()는 빼고 실행\n",
    "git branch -d (삭제할 브랜치명)\n",
    "git branch -D (강제삭제할 브랜치명)\n",
    "\n",
    "## 텍스트로 결과 보기 ##\n",
    "# 하지만 소스트리가 가시성이 더 좋음\n",
    "git log --all --decorate --oneline --graph"
   ]
  },
  {
   "cell_type": "markdown",
   "metadata": {},
   "source": [
    "- 메인 브랜치를 합치기 (Merge와 Rebase)\n",
    "- 둘 다 결과는 같음\\\n",
    "  Merge : 두 브랜치를 합치는것 (브랜치의 흔적이 남음)\\\n",
    "  Rebase : 한 브랜치에 다른 브랜치를 이어 붙이는 것 (브랜치의 흔적이 안남)"
   ]
  },
  {
   "cell_type": "code",
   "execution_count": null,
   "metadata": {},
   "outputs": [],
   "source": [
    "## merge ##\n",
    "# 메인에서 실행\n",
    "# 머지후 합쳐진브랜치a 지워도 됨\n",
    "git merge 합쳐진브랜치a\n",
    "\n",
    "## rebase ##\n",
    "# 우선 합치고 싶은 브랜치b로 이동후 메인의 뒤로 이동시킴 => 이게 rebase\n",
    "git rebase main\n",
    "# 하지만 메인은 아직 합친것도보다 시점이 뒤에 있음(나는 새로운 내용를 실행하지 않았다는 뜻이라고 이해함)\n",
    "# 그래서 시점을 끌어당겨줘야함(이를, merge로 실행)\n",
    "# main으로 브랜치 이동후 merge 실행\n",
    "git merge 합치고 싶은 브랜치b"
   ]
  },
  {
   "cell_type": "markdown",
   "metadata": {},
   "source": [
    "- 충돌해결하기"
   ]
  },
  {
   "cell_type": "code",
   "execution_count": null,
   "metadata": {},
   "outputs": [],
   "source": [
    "## 충돌이 적을 경우 ##\n",
    "# 둘 중하나를 마우스로 클릭하여 해결가능\n",
    "\n",
    "## 충돌이 한두개가 아닐경우 ##\n",
    "# merge 중단\n",
    "git merge --abort\n",
    "# 충돌한 내용 해결후 다시 커밋\n",
    "\n",
    "# rebase도 비슷하게 해결하기\n",
    "\n",
    "# 소스트리도 가능함 \n",
    "# 나중에 필요시 찾아보기"
   ]
  },
  {
   "cell_type": "markdown",
   "metadata": {},
   "source": [
    "## 디테일한 기능"
   ]
  },
  {
   "cell_type": "markdown",
   "metadata": {},
   "source": [
    "### 파일을 배제(무시)하게 하 방법\n",
    "---\n",
    "- 파일 생성 \\\n",
    "  파일명 \".gitignore\" 을 만들면 자동으로 인식되어 사용가능\n",
    "- 무시하고 싶은 파일을 하나 만들고 그 파일 이름을 .gitignore에 입력후 저장 \\\n",
    "  git status를 입력하여 파일 상태 확인\n",
    "- 몇몇개 프로젝트나 파일은 .gitignore을 이미 가지고 있기도 "
   ]
  },
  {
   "cell_type": "code",
   "execution_count": null,
   "metadata": {
    "ExecuteTime": {
     "end_time": "2021-12-10T07:08:51.724567Z",
     "start_time": "2021-12-10T07:08:51.708565Z"
    }
   },
   "outputs": [],
   "source": [
    "## gitignore 사용 양식 ##\n",
    "\n",
    "# 모든 file.c\n",
    "file.c\n",
    "\n",
    "# 최상위 폴더의 file.c\n",
    "/file.c\n",
    "\n",
    "# 모든 .c 확장자 파일\n",
    "*.c\n",
    "\n",
    "# .c 확장자지만 무시하지 않을 파일\n",
    "!not_ignore_this.c\n",
    "\n",
    "# logs란 이름의 파일 또는 폴더와 그 내용들\n",
    "logs\n",
    "\n",
    "# logs란 이름의 폴더와 그 내용들\n",
    "logs/\n",
    "\n",
    "# logs 폴더 바로 안의 debug.log와 .c 파일들\n",
    "logs/debug.log\n",
    "logs/*.c\n",
    "\n",
    "# logs 폴더 바로 안, 또는 그 안의 다른 폴더(들) 안의 debug.log\n",
    "logs/**/debug.log"
   ]
  },
  {
   "cell_type": "markdown",
   "metadata": {},
   "source": [
    "### Reset과 Revert\n",
    "---\n",
    "\n",
    "#### Reset\n",
    "이후 시점의 기록을 지우고 과거로 돌아가는것"
   ]
  },
  {
   "cell_type": "code",
   "execution_count": null,
   "metadata": {},
   "outputs": [],
   "source": [
    "# 코드 #\n",
    "# 우선 돌아갈려는 시점 확인이 필요\n",
    "git log\n",
    "\n",
    "# 형태 : (git) (reset) (--hard) (commit의 고유번호)\n",
    "git reset --hard commit의 고유번호\n",
    "\n",
    "# 소스트리에서 사용하는 방법 #\n",
    "# 이 커밋까지 현재 브런치를 초기화를 클릭\n",
    "# hard - yes"
   ]
  },
  {
   "cell_type": "markdown",
   "metadata": {},
   "source": [
    "#### Revert\n",
    "- Revert를 사용하는 이유\\\n",
    "  현 시점을 살리고 과거 행적을 시행하는 방식\\\n",
    "  코드 맘대로 수정하게 되면 협업에서 문제가 발생하기 때문에 사용\n",
    "\n",
    "- 소스트리에서 커밋을 확인하면 변경되는 내용들을 확인 가능\n",
    "\n",
    "- 여러번 revert 하다보면 충돌이 일어남 \\\n",
    "  이때는 직접적으로 수정해줘야함"
   ]
  },
  {
   "cell_type": "code",
   "execution_count": null,
   "metadata": {},
   "outputs": [],
   "source": [
    "# 코드 #\n",
    "# 우선 돌아갈려는 시점 확인이 필요\n",
    "git log\n",
    "\n",
    "# 형태 : (git) (revert) (commit의 고유번호)\n",
    "git revert commit의 고유번호\n",
    "\n",
    "# 실행 후 나온 창에서 아래 입력\n",
    "# 저정후 빠져나간다는 의미\n",
    ":wq + 엔터 \n",
    "\n",
    "# 소스트리에서 사용하는 방법 #\n",
    "# 소스트리에서 원하는 커밋에서 커밋되돌리기 실행"
   ]
  },
  {
   "cell_type": "code",
   "execution_count": null,
   "metadata": {},
   "outputs": [],
   "source": []
  }
 ],
 "metadata": {
  "kernelspec": {
   "display_name": "Python 3",
   "language": "python",
   "name": "python3"
  },
  "language_info": {
   "codemirror_mode": {
    "name": "ipython",
    "version": 3
   },
   "file_extension": ".py",
   "mimetype": "text/x-python",
   "name": "python",
   "nbconvert_exporter": "python",
   "pygments_lexer": "ipython3",
   "version": "3.7.6"
  },
  "toc": {
   "base_numbering": 1,
   "nav_menu": {},
   "number_sections": true,
   "sideBar": true,
   "skip_h1_title": false,
   "title_cell": "Table of Contents",
   "title_sidebar": "Contents",
   "toc_cell": false,
   "toc_position": {
    "height": "calc(100% - 180px)",
    "left": "10px",
    "top": "150px",
    "width": "341.465px"
   },
   "toc_section_display": true,
   "toc_window_display": true
  }
 },
 "nbformat": 4,
 "nbformat_minor": 4
}
